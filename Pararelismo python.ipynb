{
 "cells": [
  {
   "cell_type": "code",
   "execution_count": 1,
   "id": "d27667be",
   "metadata": {},
   "outputs": [],
   "source": [
    "from multiprocessing import Process"
   ]
  },
  {
   "cell_type": "code",
   "execution_count": 7,
   "id": "f1e7a4de",
   "metadata": {},
   "outputs": [],
   "source": [
    "def funcao(name):\n",
    "    print(\"hello, sou \", name)"
   ]
  },
  {
   "cell_type": "code",
   "execution_count": 29,
   "id": "2553e612",
   "metadata": {},
   "outputs": [
    {
     "name": "stdout",
     "output_type": "stream",
     "text": [
      "hello, sou  bob filho\n",
      "hello, sou  bob pai\n",
      "hello, sou  eu\n"
     ]
    }
   ],
   "source": [
    "p = Process(target=funcao, args=(\"bob filho\", )) # tem que ter essa virgula e vazio no fim pra dizer que acabou. \n",
    "# dá um erro bizarro se não fizer\n",
    "p.start()\n",
    "print(\"hello, sou \", \"bob pai\")\n",
    "funcao(\"eu\")\n",
    "p.join()"
   ]
  },
  {
   "cell_type": "code",
   "execution_count": 40,
   "id": "b0d20fc2",
   "metadata": {},
   "outputs": [
    {
     "name": "stdout",
     "output_type": "stream",
     "text": [
      "hello, sou  bob pai\n",
      "hello, sou hello, sou   hello, sou hello, sou bob filhobob filho  3   1bob filho\n",
      "bob filho2\n",
      " 0\n",
      "\n"
     ]
    }
   ],
   "source": [
    "# Fazer em 4x paralelo\n",
    "def funcao2(name, i):\n",
    "    print(\"hello, sou \", name, i)\n",
    "\n",
    "procs = []\n",
    "for i in range(4):\n",
    "    p = Process(target=funcao2, args=(\"bob filho\", i,  ))\n",
    "    procs.append(p)\n",
    "\n",
    "print(\"hello, sou \", \"bob pai\")\n",
    "\n",
    "for i in range(4):\n",
    "    procs[i].start()\n",
    "for i in range(4):\n",
    "    procs[i].join() # o join tem que estar em for separado pra ele poder juntar tudo depois de executar.\n",
    "    # se não executaria um por vez, não sendo paralelo\n",
    "\n",
    "# dá um negócio louco pq tá executando os prints fora de ordem"
   ]
  },
  {
   "cell_type": "code",
   "execution_count": 41,
   "id": "432d2e26",
   "metadata": {},
   "outputs": [
    {
     "name": "stdout",
     "output_type": "stream",
     "text": [
      "Start:  0\n",
      "End:  10000000\n",
      "Valor pi: 3.1415926536\n",
      "Tempo pi: 0.90675044 s\n"
     ]
    }
   ],
   "source": [
    "#calculo de pi sequencial\n",
    "import time\n",
    "def pi_naive(start, end, step): # calcula pi somando área de retângulos\n",
    "    print(\"Start: \", str(start))\n",
    "    print(\"End: \", str(end))\n",
    "    soma = 0.0\n",
    "    for i in range(start, end):\n",
    "        x = (i+0.5) * step\n",
    "        soma = soma + 4.0/(1.0+x*x)\n",
    "    return soma\n",
    "\n",
    "num_steps = 10000000\n",
    "sums = 0.0\n",
    "step = 1.0/num_steps\n",
    "tic = time.time() #tempo inicial\n",
    "sums = pi_naive(0, num_steps, step)\n",
    "toc = time.time() #tempo final\n",
    "pi = step*sums\n",
    "print(\"Valor pi: %.10f\" %pi)\n",
    "print(\"Tempo pi: %.8f s\" %(toc-tic)) # calcula tempo de execução"
   ]
  },
  {
   "cell_type": "code",
   "execution_count": 71,
   "id": "35ea0498",
   "metadata": {},
   "outputs": [
    {
     "name": "stdout",
     "output_type": "stream",
     "text": [
      "Start:  0\n",
      "Start:  50000000\n",
      "End:  99999999\n",
      "End:  49999999\n",
      "128700219.75867517\n",
      "185459040.40031576\n",
      "Tempo Pi: 4.70304894 s\n"
     ]
    }
   ],
   "source": [
    "#calculo de pi paralelo (feito pelo prof)\n",
    "from multiprocessing import Process\n",
    "import time\n",
    "PROCS = 2\n",
    "def pi(start, end, step):\n",
    "    print (\"Start: \", str(start))\n",
    "    print (\"End: \", str(end))\n",
    "    sum = 0.0\n",
    "    for i in range(start, end):\n",
    "        x = (i+0.5) * step\n",
    "        sum = sum + 4.0/(1.0+x*x)\n",
    "    print(sum)\n",
    "\n",
    "num_steps = 100000000 #100.000.000\n",
    "sum = 0.0\n",
    "step = 1.0/num_steps\n",
    "proc_size = num_steps // PROCS\n",
    "tic = time.time()\n",
    "workers = []\n",
    "\n",
    "for i in range(PROCS):\n",
    "    worker = Process(target=pi, args=(i*proc_size, (i+1)*proc_size - 1, step, ))\n",
    "    workers.append(worker)\n",
    "for worker in workers :\n",
    "    worker.start()\n",
    "for worker in workers :\n",
    "    worker.join()\n",
    "toc = time.time()\n",
    "print (\"Tempo Pi: %.8f s\" %(toc-tic))"
   ]
  },
  {
   "cell_type": "code",
   "execution_count": 74,
   "id": "7d4bda0f",
   "metadata": {},
   "outputs": [
    {
     "name": "stdout",
     "output_type": "stream",
     "text": [
      "Start:  0Start: \n",
      "End:  50000000 \n",
      "50000000End: \n",
      " 100000000\n",
      "Tempo Pi: 4.75239038 s\n",
      "314159265.35899097\n"
     ]
    }
   ],
   "source": [
    "#calculo de pi paralelo (diferente do prof) isso aqui é 10x mais difícil que usar pipes\n",
    "#, que é a solução do professor logo abaixo\n",
    "import multiprocessing\n",
    "\n",
    "\n",
    "def pi_naive(start, end, step, proc_num, return_list): # calcula pi somando área de retângulos\n",
    "    print(\"Start: \", str(start))\n",
    "    print(\"End: \", str(end))\n",
    "    soma = 0.0\n",
    "    for i in range(start, end):\n",
    "        x = (i+0.5) * step\n",
    "        soma = soma + 4.0/(1.0+x*x)\n",
    "    return_list.append(soma)\n",
    "\n",
    "\n",
    "if __name__ == \"__main__\":\n",
    "    start = 0\n",
    "    end = 100000000 # 100.000.000\n",
    "    sums = 0.0\n",
    "    step = 1.0/end\n",
    "    manager = multiprocessing.Manager()\n",
    "    return_list = manager.list()\n",
    "    jobs = []\n",
    "    tic = time.time()\n",
    "    for proc_num, start, end in zip([0, 1], [0, end//2], [end//2, end]):\n",
    "        p = multiprocessing.Process(target=pi_naive, args=(start, end, step  ,proc_num, return_list))\n",
    "        jobs.append(p)\n",
    "        p.start()\n",
    "\n",
    "    for proc in jobs:\n",
    "        proc.join()\n",
    "    toc = time.time()\n",
    "    print (\"Tempo Pi: %.8f s\" %(toc-tic))\n",
    "    print(return_list[0] + return_list[1])"
   ]
  },
  {
   "cell_type": "code",
   "execution_count": 85,
   "id": "b8f16725",
   "metadata": {},
   "outputs": [
    {
     "name": "stdout",
     "output_type": "stream",
     "text": [
      "Start:  0\n",
      "Start: End:  49999999\n",
      " 50000000\n",
      "End:  99999999\n",
      "185459040.40031576\n",
      "128700219.75867517\n",
      "314159260.1589909\n",
      "Tempo Pi: 4.71264911 s\n"
     ]
    }
   ],
   "source": [
    "# paralelo usando pipe\n",
    "from multiprocessing import Process, Pipe\n",
    "import time\n",
    "PROCS = 2\n",
    "def pi(start, end, step, entrada):\n",
    "    print (\"Start: \", str(start))\n",
    "    print (\"End: \", str(end))\n",
    "    sum = 0.0\n",
    "    for i in range(start, end):\n",
    "        x = (i+0.5) * step\n",
    "        sum = sum + 4.0/(1.0+x*x)\n",
    "    print(sum)\n",
    "    entrada.send(sum)\n",
    "    \n",
    "    \n",
    "entrada , saida = Pipe()\n",
    "num_steps = 100000000 #100.000.000\n",
    "sum = 0.0\n",
    "step = 1.0/num_steps\n",
    "proc_size = num_steps // PROCS\n",
    "tic = time.time()\n",
    "workers = []\n",
    "\n",
    "worker = Process()\n",
    "for i in range(PROCS):\n",
    "    worker = Process(target=pi, args=(i*proc_size, (i+1)*proc_size - 1, step, entrada, ))\n",
    "    workers.append(worker)\n",
    "for worker in workers :\n",
    "    worker.start()\n",
    "lista = []\n",
    "while len(lista) < PROCS:\n",
    "    lista.append(saida.recv())\n",
    "print((lista[0]+lista[1]))\n",
    "\n",
    "for worker in workers :\n",
    "    worker.join()\n",
    "toc = time.time()\n",
    "print (\"Tempo Pi: %.8f s\" %(toc-tic))"
   ]
  },
  {
   "cell_type": "code",
   "execution_count": null,
   "id": "7cbea9a4",
   "metadata": {},
   "outputs": [],
   "source": []
  }
 ],
 "metadata": {
  "kernelspec": {
   "display_name": "Python 3 (ipykernel)",
   "language": "python",
   "name": "python3"
  },
  "language_info": {
   "codemirror_mode": {
    "name": "ipython",
    "version": 3
   },
   "file_extension": ".py",
   "mimetype": "text/x-python",
   "name": "python",
   "nbconvert_exporter": "python",
   "pygments_lexer": "ipython3",
   "version": "3.9.2"
  }
 },
 "nbformat": 4,
 "nbformat_minor": 5
}
