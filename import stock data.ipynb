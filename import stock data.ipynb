{
 "cells": [
  {
   "cell_type": "code",
   "execution_count": 1,
   "metadata": {},
   "outputs": [],
   "source": [
    "import pandas as pd\n",
    "import numpy as np\n",
    "import yfinance as yf"
   ]
  },
  {
   "cell_type": "code",
   "execution_count": 2,
   "metadata": {},
   "outputs": [
    {
     "data": {
      "text/html": [
       "<div>\n",
       "<style scoped>\n",
       "    .dataframe tbody tr th:only-of-type {\n",
       "        vertical-align: middle;\n",
       "    }\n",
       "\n",
       "    .dataframe tbody tr th {\n",
       "        vertical-align: top;\n",
       "    }\n",
       "\n",
       "    .dataframe thead th {\n",
       "        text-align: right;\n",
       "    }\n",
       "</style>\n",
       "<table border=\"1\" class=\"dataframe\">\n",
       "  <thead>\n",
       "    <tr style=\"text-align: right;\">\n",
       "      <th></th>\n",
       "      <th>acao</th>\n",
       "      <th>ini</th>\n",
       "      <th>fim</th>\n",
       "    </tr>\n",
       "  </thead>\n",
       "  <tbody>\n",
       "    <tr>\n",
       "      <th>0</th>\n",
       "      <td>vale3</td>\n",
       "      <td>01/01/2022</td>\n",
       "      <td>17/05/2022</td>\n",
       "    </tr>\n",
       "    <tr>\n",
       "      <th>1</th>\n",
       "      <td>itub3</td>\n",
       "      <td>01/01/2022</td>\n",
       "      <td>17/05/2022</td>\n",
       "    </tr>\n",
       "    <tr>\n",
       "      <th>2</th>\n",
       "      <td>sanb11</td>\n",
       "      <td>01/01/2022</td>\n",
       "      <td>17/05/2022</td>\n",
       "    </tr>\n",
       "  </tbody>\n",
       "</table>\n",
       "</div>"
      ],
      "text/plain": [
       "     acao         ini         fim\n",
       "0   vale3  01/01/2022  17/05/2022\n",
       "1   itub3  01/01/2022  17/05/2022\n",
       "2  sanb11  01/01/2022  17/05/2022"
      ]
     },
     "execution_count": 2,
     "metadata": {},
     "output_type": "execute_result"
    }
   ],
   "source": [
    "df = pd.read_csv(\"lista acoes.csv\", delimiter=\";\")\n",
    "df[[\"ini\",\"fim\"]].apply(pd.to_datetime)\n",
    "df"
   ]
  },
  {
   "cell_type": "code",
   "execution_count": 3,
   "metadata": {},
   "outputs": [
    {
     "data": {
      "text/plain": [
       "0     vale3\n",
       "1     itub3\n",
       "2    sanb11\n",
       "Name: acao, dtype: object"
      ]
     },
     "execution_count": 3,
     "metadata": {},
     "output_type": "execute_result"
    }
   ],
   "source": [
    "lista_acoes = df.acao\n",
    "lista_acoes"
   ]
  },
  {
   "cell_type": "code",
   "execution_count": 4,
   "metadata": {},
   "outputs": [
    {
     "data": {
      "text/plain": [
       "('01/01/2022',\n",
       "                ini         fim\n",
       " acao                          \n",
       " vale3   01/01/2022  17/05/2022\n",
       " itub3   01/01/2022  17/05/2022\n",
       " sanb11  01/01/2022  17/05/2022)"
      ]
     },
     "execution_count": 4,
     "metadata": {},
     "output_type": "execute_result"
    }
   ],
   "source": [
    "acao = \"vale3\"\n",
    "df.set_index(\"acao\", inplace=True)\n",
    "df.loc[acao, \"ini\"], df"
   ]
  },
  {
   "cell_type": "code",
   "execution_count": 9,
   "metadata": {},
   "outputs": [
    {
     "data": {
      "text/plain": [
       "(pandas._libs.tslibs.timestamps.Timestamp, '17/05/2022')"
      ]
     },
     "execution_count": 9,
     "metadata": {},
     "output_type": "execute_result"
    }
   ],
   "source": [
    "df.loc[acao,\"ini\"]\n",
    "ini = pd.to_datetime(df.loc[acao,\"ini\"])\n",
    "fim = df.loc[acao,\"fim\"]\n",
    "type(ini), fim"
   ]
  },
  {
   "cell_type": "code",
   "execution_count": 6,
   "metadata": {},
   "outputs": [
    {
     "data": {
      "text/plain": [
       "Index(['vale3', 'itub3', 'sanb11'], dtype='object', name='acao')"
      ]
     },
     "execution_count": 6,
     "metadata": {},
     "output_type": "execute_result"
    }
   ],
   "source": [
    "df.index"
   ]
  },
  {
   "cell_type": "code",
   "execution_count": 12,
   "metadata": {},
   "outputs": [
    {
     "name": "stdout",
     "output_type": "stream",
     "text": [
      "[*********************100%***********************]  1 of 1 completed\n",
      "[*********************100%***********************]  1 of 1 completed\n",
      "[*********************100%***********************]  1 of 1 completed\n"
     ]
    },
    {
     "data": {
      "text/html": [
       "<div>\n",
       "<style scoped>\n",
       "    .dataframe tbody tr th:only-of-type {\n",
       "        vertical-align: middle;\n",
       "    }\n",
       "\n",
       "    .dataframe tbody tr th {\n",
       "        vertical-align: top;\n",
       "    }\n",
       "\n",
       "    .dataframe thead th {\n",
       "        text-align: right;\n",
       "    }\n",
       "</style>\n",
       "<table border=\"1\" class=\"dataframe\">\n",
       "  <thead>\n",
       "    <tr style=\"text-align: right;\">\n",
       "      <th></th>\n",
       "      <th>vale3</th>\n",
       "      <th>itub3</th>\n",
       "      <th>sanb11</th>\n",
       "    </tr>\n",
       "    <tr>\n",
       "      <th>Date</th>\n",
       "      <th></th>\n",
       "      <th></th>\n",
       "      <th></th>\n",
       "    </tr>\n",
       "  </thead>\n",
       "  <tbody>\n",
       "    <tr>\n",
       "      <th>2022-01-03</th>\n",
       "      <td>78.000000</td>\n",
       "      <td>19.379999</td>\n",
       "      <td>30.590000</td>\n",
       "    </tr>\n",
       "    <tr>\n",
       "      <th>2022-01-04</th>\n",
       "      <td>77.080002</td>\n",
       "      <td>19.809999</td>\n",
       "      <td>31.030001</td>\n",
       "    </tr>\n",
       "    <tr>\n",
       "      <th>2022-01-05</th>\n",
       "      <td>77.809998</td>\n",
       "      <td>19.410000</td>\n",
       "      <td>30.790001</td>\n",
       "    </tr>\n",
       "    <tr>\n",
       "      <th>2022-01-06</th>\n",
       "      <td>79.379997</td>\n",
       "      <td>19.760000</td>\n",
       "      <td>31.040001</td>\n",
       "    </tr>\n",
       "    <tr>\n",
       "      <th>2022-01-07</th>\n",
       "      <td>84.000000</td>\n",
       "      <td>20.070000</td>\n",
       "      <td>31.139999</td>\n",
       "    </tr>\n",
       "    <tr>\n",
       "      <th>...</th>\n",
       "      <td>...</td>\n",
       "      <td>...</td>\n",
       "      <td>...</td>\n",
       "    </tr>\n",
       "    <tr>\n",
       "      <th>2022-05-10</th>\n",
       "      <td>75.540001</td>\n",
       "      <td>20.010000</td>\n",
       "      <td>32.599998</td>\n",
       "    </tr>\n",
       "    <tr>\n",
       "      <th>2022-05-11</th>\n",
       "      <td>78.690002</td>\n",
       "      <td>20.500000</td>\n",
       "      <td>32.880001</td>\n",
       "    </tr>\n",
       "    <tr>\n",
       "      <th>2022-05-12</th>\n",
       "      <td>77.900002</td>\n",
       "      <td>20.910000</td>\n",
       "      <td>32.750000</td>\n",
       "    </tr>\n",
       "    <tr>\n",
       "      <th>2022-05-13</th>\n",
       "      <td>77.809998</td>\n",
       "      <td>21.129999</td>\n",
       "      <td>32.700001</td>\n",
       "    </tr>\n",
       "    <tr>\n",
       "      <th>2022-05-16</th>\n",
       "      <td>80.139999</td>\n",
       "      <td>21.230000</td>\n",
       "      <td>33.540001</td>\n",
       "    </tr>\n",
       "  </tbody>\n",
       "</table>\n",
       "<p>92 rows × 3 columns</p>\n",
       "</div>"
      ],
      "text/plain": [
       "                vale3      itub3     sanb11\n",
       "Date                                       \n",
       "2022-01-03  78.000000  19.379999  30.590000\n",
       "2022-01-04  77.080002  19.809999  31.030001\n",
       "2022-01-05  77.809998  19.410000  30.790001\n",
       "2022-01-06  79.379997  19.760000  31.040001\n",
       "2022-01-07  84.000000  20.070000  31.139999\n",
       "...               ...        ...        ...\n",
       "2022-05-10  75.540001  20.010000  32.599998\n",
       "2022-05-11  78.690002  20.500000  32.880001\n",
       "2022-05-12  77.900002  20.910000  32.750000\n",
       "2022-05-13  77.809998  21.129999  32.700001\n",
       "2022-05-16  80.139999  21.230000  33.540001\n",
       "\n",
       "[92 rows x 3 columns]"
      ]
     },
     "execution_count": 12,
     "metadata": {},
     "output_type": "execute_result"
    }
   ],
   "source": [
    "cotacoes = pd.DataFrame()\n",
    "for acao in df.index:\n",
    "    ini = pd.to_datetime(df.loc[acao,\"ini\"])\n",
    "    fim = pd.to_datetime(df.loc[acao,\"fim\"])\n",
    "    cotacoes[acao] = yf.download(acao+\".SA\", start=ini, end=fim,)[\"Close\"]\n",
    "cotacoes"
   ]
  },
  {
   "cell_type": "code",
   "execution_count": null,
   "metadata": {},
   "outputs": [],
   "source": []
  },
  {
   "cell_type": "code",
   "execution_count": null,
   "metadata": {},
   "outputs": [],
   "source": []
  }
 ],
 "metadata": {
  "kernelspec": {
   "display_name": "Python 3",
   "language": "python",
   "name": "python3"
  },
  "language_info": {
   "codemirror_mode": {
    "name": "ipython",
    "version": 3
   },
   "file_extension": ".py",
   "mimetype": "text/x-python",
   "name": "python",
   "nbconvert_exporter": "python",
   "pygments_lexer": "ipython3",
   "version": "3.8.5"
  }
 },
 "nbformat": 4,
 "nbformat_minor": 4
}
