{
  "nbformat": 4,
  "nbformat_minor": 0,
  "metadata": {
    "colab": {
      "name": "aula-R.ipynb",
      "provenance": []
    },
    "kernelspec": {
      "name": "ir",
      "display_name": "R"
    },
    "language_info": {
      "name": "R"
    }
  },
  "cells": [
    {
      "cell_type": "code",
      "execution_count": null,
      "metadata": {
        "colab": {
          "base_uri": "https://localhost:8080/",
          "height": 34
        },
        "id": "lZ2bmGBDvZu_",
        "outputId": "48b16f8f-a4a8-464d-b5e4-8273d307a9b0"
      },
      "outputs": [
        {
          "output_type": "display_data",
          "data": {
            "text/html": [
              "10"
            ],
            "text/markdown": "10",
            "text/latex": "10",
            "text/plain": [
              "[1] 10"
            ]
          },
          "metadata": {}
        }
      ],
      "source": [
        "x <- 10\n",
        "x"
      ]
    },
    {
      "cell_type": "code",
      "source": [
        "teste <- \"teste\"\n",
        "teste"
      ],
      "metadata": {
        "id": "7TXBwBBcvbTF",
        "outputId": "373af73e-7c3c-4f6d-bb7c-7f85a29f27b8",
        "colab": {
          "base_uri": "https://localhost:8080/",
          "height": 34
        }
      },
      "execution_count": 2,
      "outputs": [
        {
          "output_type": "display_data",
          "data": {
            "text/html": [
              "'teste'"
            ],
            "text/markdown": "'teste'",
            "text/latex": "'teste'",
            "text/plain": [
              "[1] \"teste\""
            ]
          },
          "metadata": {}
        }
      ]
    },
    {
      "cell_type": "code",
      "source": [
        ""
      ],
      "metadata": {
        "id": "1s9TbbO2wrRa"
      },
      "execution_count": null,
      "outputs": []
    }
  ]
}